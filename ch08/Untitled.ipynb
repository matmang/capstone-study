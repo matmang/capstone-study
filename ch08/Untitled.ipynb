{
 "cells": [
  {
   "cell_type": "code",
   "execution_count": 6,
   "metadata": {},
   "outputs": [
    {
     "name": "stdout",
     "output_type": "stream",
     "text": [
      "0.996\n"
     ]
    }
   ],
   "source": [
    "# train_deepnet.py를 활용, 학습 결과 확인하기\n",
    "import sys, os\n",
    "sys.path.append(os.pardir)\n",
    "import numpy as np\n",
    "import matplotlib.pyplot as plt\n",
    "from dataset.mnist import load_mnist\n",
    "from deep_convnet import DeepConvNet\n",
    "from common.trainer import Trainer\n",
    "\n",
    "# 학습용 데이터 불러오기\n",
    "(x_train, t_train), (x_test, t_test) = load_mnist(flatten=False)\n",
    "\n",
    "\n",
    "network = DeepConvNet()\n",
    "\n",
    "#학습은 이렇게 하면 된다. 직접 하긴 너무 오래걸린다.\n",
    "'''\n",
    "trainer = Trainer(network, x_train, t_train, x_test, t_test,\n",
    "                  epochs=20, mini_batch_size=100,\n",
    "                  optimizer='Adam', optimizer_param={'lr':0.001},\n",
    "                  evaluate_sample_num_per_epoch=1000)\n",
    "trainer.train()\n",
    "'''\n",
    "\n",
    "# 이미 학습된 결과를 불러온다. 직접 하기엔 너무 오래걸리니\n",
    "network.load_params(\"deep_convnet_params.pkl\")\n",
    "\n",
    "# unsupported pickle protocol: 5 가 뜨면 pip install pickle5로 설치를 하고 import pickle5 as pickle로 따로 로드해야된다.\n",
    "# https://stackoverflow.com/questions/63329657/python-3-7-error-unsupported-pickle-protocol-5\n",
    "# 물론 파이썬 버전을 업데이트 하는 방법이 더 편하다.\n",
    "\n",
    "index = np.random.choice(x_test.shape[0], 1000)\n",
    "acc = network.accuracy(x_test[index], t_test[index])\n",
    "print(acc)"
   ]
  },
  {
   "cell_type": "code",
   "execution_count": null,
   "metadata": {},
   "outputs": [],
   "source": [
    "# 정확도를 더 높이려면?\n",
    "# 데이터 확장 : 훈련 데이터에 회전, 이동, 잘라내기, 뒤집기, 밝기 변화, 확대, 축소 등을 가해 데이터의 수를 많이 늘리는 것.\n",
    "\n",
    "# 층을 깊게하는 이유?\n",
    "# 일단 MNIST 손글씨 문제는 Convolutional Neural Network(합성곱 신경망)로 해결하는게 대부분이며, 층이 깊지 않아도 정확도가 충분히 높다.\n",
    "\n",
    "# 층이 깊어지면 신경망의 매개변수의 수가 줄어들고\n",
    "# 넓은 수용영역(뉴런을 변하게하는 공간)을 소화하며\n",
    "# 활성화함수를 곱해 표현력이 개선된다.\n",
    "\n",
    "# 딥러닝의 학습결과가 좋은 것도 중요하나, 속도도 중요하다.\n",
    "# 합성곱 계층 계산은 매우매우 느린 과정\n",
    "# (행렬이라) 병렬처리가 가능하니 GPU로 계산하는 방법이 있고, 마찬가지로 GPU 병렬연결도 함께 가능\n",
    "\n",
    "# 앞으로 더 많이 활용될 것이다."
   ]
  }
 ],
 "metadata": {
  "kernelspec": {
   "display_name": "Python 3 (ipykernel)",
   "language": "python",
   "name": "python3"
  },
  "language_info": {
   "codemirror_mode": {
    "name": "ipython",
    "version": 3
   },
   "file_extension": ".py",
   "mimetype": "text/x-python",
   "name": "python",
   "nbconvert_exporter": "python",
   "pygments_lexer": "ipython3",
   "version": "3.10.4"
  }
 },
 "nbformat": 4,
 "nbformat_minor": 4
}
