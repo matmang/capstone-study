{
 "cells": [
  {
   "cell_type": "code",
   "execution_count": 31,
   "id": "53b040b2",
   "metadata": {},
   "outputs": [],
   "source": [
    "import numpy as np\n",
    "\n",
    "def numerical_gradient(f, x):\n",
    "    h = 1e-4\n",
    "    grad = np.zeros_like(x)\n",
    "    \n",
    "    for idx in range(x.size):\n",
    "        tmp = x[idx]\n",
    "        x[idx] = tmp + h\n",
    "        f1 = f(x)\n",
    "        \n",
    "        x[idx] = tmp - h\n",
    "        f2 = f(x)\n",
    "        \n",
    "        grad[idx] = (f1-f2)/(2*h)\n",
    "        x[idx] = tmp\n",
    "    return grad"
   ]
  },
  {
   "cell_type": "code",
   "execution_count": 32,
   "id": "0a524fcc",
   "metadata": {},
   "outputs": [],
   "source": [
    "def gradient_desc(f, init_x, lr=0.01, step_num=100):\n",
    "    x=init_x\n",
    "    for i in range(step_num):\n",
    "        grad=numerical_gradient(f, x)\n",
    "        x-=lr*grad\n",
    "    return x"
   ]
  },
  {
   "cell_type": "code",
   "execution_count": 33,
   "id": "a8516146",
   "metadata": {},
   "outputs": [
    {
     "data": {
      "text/plain": [
       "array([-6.11110793e-10,  8.14814391e-10])"
      ]
     },
     "execution_count": 33,
     "metadata": {},
     "output_type": "execute_result"
    }
   ],
   "source": [
    "def function_2(x):\n",
    "    return np.sum(x**2)\n",
    "\n",
    "init_x = np.array([-3.0, 4.0])\n",
    "gradient_desc(function_2, init_x, lr=0.1, step_num=100)"
   ]
  },
  {
   "cell_type": "code",
   "execution_count": null,
   "id": "5379bed7",
   "metadata": {},
   "outputs": [],
   "source": []
  }
 ],
 "metadata": {
  "kernelspec": {
   "display_name": "Python 3",
   "language": "python",
   "name": "python3"
  },
  "language_info": {
   "codemirror_mode": {
    "name": "ipython",
    "version": 3
   },
   "file_extension": ".py",
   "mimetype": "text/x-python",
   "name": "python",
   "nbconvert_exporter": "python",
   "pygments_lexer": "ipython3",
   "version": "3.9.12"
  }
 },
 "nbformat": 4,
 "nbformat_minor": 5
}
